{
 "cells": [
  {
   "cell_type": "code",
   "execution_count": 25,
   "id": "e55193d8",
   "metadata": {},
   "outputs": [
    {
     "name": "stdout",
     "output_type": "stream",
     "text": [
      "['a', 'b', ' dumbo']\n",
      "['a', 'b', 'dumbo']\n"
     ]
    }
   ],
   "source": [
    "# STRINGS USING SPLIT\n",
    "\n",
    "val = 'a,b, dumbo'\n",
    "\n",
    "\n",
    "split_array = val.split(',')\n",
    "\n",
    "print(split_array)\n",
    "\n",
    "pieces = [x.strip() for x in val.split(',')]\n",
    "\n",
    "print(pieces)\n"
   ]
  },
  {
   "cell_type": "code",
   "execution_count": 26,
   "id": "297f27c8",
   "metadata": {},
   "outputs": [
    {
     "name": "stdout",
     "output_type": "stream",
     "text": [
      "a,b,dumbo\n"
     ]
    }
   ],
   "source": [
    "# STRINGS USING JOIN\n",
    "\n",
    "joined_string = \",\".join(pieces)    \n",
    "print(joined_string)"
   ]
  },
  {
   "cell_type": "code",
   "execution_count": 27,
   "id": "1591c6b8",
   "metadata": {},
   "outputs": [
    {
     "name": "stdout",
     "output_type": "stream",
     "text": [
      "a:b:dumbo\n"
     ]
    }
   ],
   "source": [
    "#STRING USING REPLACE\n",
    "\n",
    "replaced_string = joined_string.replace(\",\", \":\")\n",
    "\n",
    "print(replaced_string)"
   ]
  },
  {
   "cell_type": "code",
   "execution_count": 28,
   "id": "09ae9df3",
   "metadata": {},
   "outputs": [
    {
     "name": "stdout",
     "output_type": "stream",
     "text": [
      "foo bar baz qux\n",
      "['foo', 'bar', 'baz', 'qux']\n"
     ]
    }
   ],
   "source": [
    "#REGULAR EXPRESSIONS\n",
    "\n",
    "import re\n",
    "\n",
    "text = \"foo bar baz qux\"\n",
    "\n",
    "print(text)\n",
    "\n",
    "results = re.split(r\"\\s+\", text)\n",
    "\n",
    "print(results)\n"
   ]
  },
  {
   "cell_type": "code",
   "execution_count": 29,
   "id": "82df4cb0",
   "metadata": {},
   "outputs": [
    {
     "data": {
      "text/plain": [
       "['a', 'a']"
      ]
     },
     "execution_count": 29,
     "metadata": {},
     "output_type": "execute_result"
    }
   ],
   "source": [
    "rege = re.compile(r\"a\")\n",
    "\n",
    "rege.findall(text)"
   ]
  },
  {
   "cell_type": "code",
   "execution_count": null,
   "id": "1a5b6611",
   "metadata": {},
   "outputs": [
    {
     "name": "stdout",
     "output_type": "stream",
     "text": [
      "<class 'dict'>\n",
      "<class 'pandas.core.series.Series'>\n"
     ]
    },
    {
     "ename": "NameError",
     "evalue": "name 'dataS' is not defined",
     "output_type": "error",
     "traceback": [
      "\u001b[0;31m---------------------------------------------------------------------------\u001b[0m",
      "\u001b[0;31mNameError\u001b[0m                                 Traceback (most recent call last)",
      "Cell \u001b[0;32mIn[35], line 13\u001b[0m\n\u001b[1;32m      9\u001b[0m data \u001b[38;5;241m=\u001b[39m pd\u001b[38;5;241m.\u001b[39mSeries(data)\n\u001b[1;32m     11\u001b[0m \u001b[38;5;28mprint\u001b[39m(\u001b[38;5;28mtype\u001b[39m(data))\n\u001b[0;32m---> 13\u001b[0m \u001b[38;5;28mprint\u001b[39m(\u001b[43mdataS\u001b[49m)\n",
      "\u001b[0;31mNameError\u001b[0m: name 'dataS' is not defined"
     ]
    }
   ],
   "source": [
    "#STRING  FUNCTIONS IN PANDAS\n",
    "import numpy as np\n",
    "import pandas as pd\n",
    "\n",
    "data ={\"Dave\": \"dave@google.com\", \"Steve\" : \"steve@gmail.com\", \"Rob\" : \"rob@google.com\", \"Wes\" : np.nan}\n",
    "\n",
    "print(type(data))\n",
    "\n",
    "data = pd.Series(data)\n",
    "\n",
    "print(type(data))\n",
    "\n",
    "print(data)\n"
   ]
  }
 ],
 "metadata": {
  "kernelspec": {
   "display_name": "Python 3 (ipykernel)",
   "language": "python",
   "name": "python3"
  },
  "language_info": {
   "codemirror_mode": {
    "name": "ipython",
    "version": 3
   },
   "file_extension": ".py",
   "mimetype": "text/x-python",
   "name": "python",
   "nbconvert_exporter": "python",
   "pygments_lexer": "ipython3",
   "version": "3.12.3"
  }
 },
 "nbformat": 4,
 "nbformat_minor": 5
}
