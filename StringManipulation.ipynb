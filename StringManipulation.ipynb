{
 "cells": [
  {
   "cell_type": "code",
   "execution_count": 16,
   "id": "e55193d8",
   "metadata": {},
   "outputs": [
    {
     "name": "stdout",
     "output_type": "stream",
     "text": [
      "['a', 'b', ' dumbo']\n",
      "['a', 'b', 'dumbo']\n"
     ]
    }
   ],
   "source": [
    "# STRINGS USING SPLIT\n",
    "\n",
    "val = 'a,b, dumbo'\n",
    "\n",
    "\n",
    "split_array = val.split(',')\n",
    "\n",
    "print(split_array)\n",
    "\n",
    "pieces = [x.strip() for x in val.split(',')]\n",
    "\n",
    "print(pieces)\n"
   ]
  },
  {
   "cell_type": "code",
   "execution_count": 17,
   "id": "297f27c8",
   "metadata": {},
   "outputs": [
    {
     "name": "stdout",
     "output_type": "stream",
     "text": [
      "a,b,dumbo\n"
     ]
    }
   ],
   "source": [
    "# STRINGS USING JOIN\n",
    "\n",
    "joined_string = \",\".join(pieces)    \n",
    "print(joined_string)"
   ]
  },
  {
   "cell_type": "code",
   "execution_count": 18,
   "id": "1591c6b8",
   "metadata": {},
   "outputs": [
    {
     "name": "stdout",
     "output_type": "stream",
     "text": [
      "a:b:dumbo\n"
     ]
    }
   ],
   "source": [
    "#STRING USING REPLACE\n",
    "\n",
    "replaced_string = joined_string.replace(\",\", \":\")\n",
    "\n",
    "print(replaced_string)"
   ]
  },
  {
   "cell_type": "code",
   "execution_count": 19,
   "id": "09ae9df3",
   "metadata": {},
   "outputs": [
    {
     "name": "stdout",
     "output_type": "stream",
     "text": [
      "foo bar baz qux\n",
      "['foo', 'bar', 'baz', 'qux']\n"
     ]
    }
   ],
   "source": [
    "#REGULAR EXPRESSIONS\n",
    "\n",
    "import re\n",
    "\n",
    "text = \"foo bar baz qux\"\n",
    "\n",
    "print(text)\n",
    "\n",
    "results = re.split(r\"\\s+\", text)\n",
    "\n",
    "print(results)\n"
   ]
  },
  {
   "cell_type": "code",
   "execution_count": 20,
   "id": "82df4cb0",
   "metadata": {},
   "outputs": [
    {
     "data": {
      "text/plain": [
       "['a', 'a']"
      ]
     },
     "execution_count": 20,
     "metadata": {},
     "output_type": "execute_result"
    }
   ],
   "source": [
    "rege = re.compile(r\"a\")\n",
    "\n",
    "rege.findall(text)"
   ]
  },
  {
   "cell_type": "code",
   "execution_count": 21,
   "id": "1a5b6611",
   "metadata": {},
   "outputs": [
    {
     "name": "stdout",
     "output_type": "stream",
     "text": [
      "<class 'dict'>\n",
      "<class 'pandas.core.series.Series'>\n",
      "Dave     dave@google.com\n",
      "Steve    steve@gmail.com\n",
      "Rob       rob@google.com\n",
      "Wes                  NaN\n",
      "dtype: object\n"
     ]
    }
   ],
   "source": [
    "#STRING  FUNCTIONS IN PANDAS\n",
    "import numpy as np\n",
    "import pandas as pd\n",
    "\n",
    "data ={\"Dave\": \"dave@google.com\", \"Steve\" : \"steve@gmail.com\", \"Rob\" : \"rob@google.com\", \"Wes\" : np.nan}\n",
    "\n",
    "print(type(data))\n",
    "\n",
    "data = pd.Series(data)\n",
    "\n",
    "print(type(data))\n",
    "\n",
    "print(data)\n"
   ]
  },
  {
   "cell_type": "code",
   "execution_count": 22,
   "id": "20a0c74c",
   "metadata": {},
   "outputs": [
    {
     "data": {
      "text/plain": [
       "Dave     False\n",
       "Steve    False\n",
       "Rob      False\n",
       "Wes       True\n",
       "dtype: bool"
      ]
     },
     "execution_count": 22,
     "metadata": {},
     "output_type": "execute_result"
    }
   ],
   "source": [
    "data.isna()"
   ]
  },
  {
   "cell_type": "code",
   "execution_count": 25,
   "id": "da5d3a80",
   "metadata": {},
   "outputs": [
    {
     "data": {
      "text/plain": [
       "Dave     False\n",
       "Steve    False\n",
       "Rob      False\n",
       "Wes        NaN\n",
       "dtype: object"
      ]
     },
     "execution_count": 25,
     "metadata": {},
     "output_type": "execute_result"
    }
   ],
   "source": [
    "\n",
    "\n",
    "data.str.contains(\"Steve\")  "
   ]
  },
  {
   "cell_type": "code",
   "execution_count": 26,
   "id": "04f71287",
   "metadata": {},
   "outputs": [
    {
     "name": "stdout",
     "output_type": "stream",
     "text": [
      "Dave     dave@google.com\n",
      "Steve    steve@gmail.com\n",
      "Rob       rob@google.com\n",
      "Wes                  nan\n",
      "dtype: object\n",
      "<class 'pandas.core.series.Series'>\n"
     ]
    }
   ],
   "source": [
    "data_as_string = data.astype(str)\n",
    "\n",
    "print(data_as_string)\n",
    "print(type(data_as_string))"
   ]
  },
  {
   "cell_type": "code",
   "execution_count": null,
   "id": "7ccc2852",
   "metadata": {},
   "outputs": [
    {
     "name": "stdout",
     "output_type": "stream",
     "text": [
      "[[0 7 6 4]\n",
      " [4 8 0 6]\n",
      " [2 0 5 9]\n",
      " [7 7 7 7]]\n",
      "   apples  oranges  pears  bananas\n",
      "0       0        7      6        4\n",
      "1       4        8      0        6\n",
      "2       2        0      5        9\n",
      "3       7        7      7        7\n"
     ]
    }
   ],
   "source": [
    "#  CATAGORICAL DATA\n",
    "#NOTE THAT THE SEED NUMBER IS USED FOR REPRODUCIBILITY. IF I WANT TO USE THE SAME \"RANDOM\" NUMBERS \n",
    "# AGAIN, I SHOULD USE THE SAME SEED NUMBER\n",
    "\n",
    "\n",
    "fruits =['apples', 'oranges', 'pears', 'bananas']\n",
    "\n",
    "N = len(fruits)\n",
    "\n",
    "rng = np.random.default_rng(seed=42)\n",
    "\n",
    "\n",
    "results_rng = rng.integers(0, 10, size=(N, 4))\n",
    "\n",
    "print(results_rng)\n",
    "\n",
    "results = pd.DataFrame(results_rng, columns=fruits)\n",
    "\n",
    "print(results)"
   ]
  }
 ],
 "metadata": {
  "kernelspec": {
   "display_name": "Python 3 (ipykernel)",
   "language": "python",
   "name": "python3"
  },
  "language_info": {
   "codemirror_mode": {
    "name": "ipython",
    "version": 3
   },
   "file_extension": ".py",
   "mimetype": "text/x-python",
   "name": "python",
   "nbconvert_exporter": "python",
   "pygments_lexer": "ipython3",
   "version": "3.12.3"
  }
 },
 "nbformat": 4,
 "nbformat_minor": 5
}
